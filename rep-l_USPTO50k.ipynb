{
 "cells": [
  {
   "cell_type": "code",
   "execution_count": 1,
   "id": "a90cc6ea-1d89-480d-8b02-28aa45788ce9",
   "metadata": {},
   "outputs": [],
   "source": [
    "import json"
   ]
  },
  {
   "cell_type": "code",
   "execution_count": 2,
   "id": "792b07e8-8ce2-4c44-a7b3-f003f97ee008",
   "metadata": {},
   "outputs": [],
   "source": [
    "data_files = {\n",
    "    'atomwise_chkpt.smi': 'Atow-wise',\n",
    "    'spe_chkpt.json': 'SmilesPE',\n",
    "    'selfies_chkpt.csv': 'SELFIES',\n",
    "    'deepsmi_chkpt.csv': 'DeepSMILES',\n",
    "    'ais_chkpt.smi': 'AIS',\n",
    "}"
   ]
  },
  {
   "cell_type": "code",
   "execution_count": 3,
   "id": "74044b99-4dcf-41b6-83d8-fee8d3b2714e",
   "metadata": {},
   "outputs": [],
   "source": [
    "def get_rep(sent, l=300):\n",
    "    cnt = 0\n",
    "    for i, w in enumerate(sent):\n",
    "        if w in sent[max(i - l, 0):i]:\n",
    "            cnt += 1\n",
    "    return cnt\n",
    "\n",
    "def repl_l(data_files):\n",
    "    for checkp, namespace in data_files.items():\n",
    "        if not checkp.endswith(\".csv\"):\n",
    "            with open('./data/rep-l/{}'.format(checkp), 'r') as f:\n",
    "                d = json.load(f)\n",
    "                nonexacts = []\n",
    "                for t, z1, z2 in d:              \n",
    "                    if 0.0 < float(t) < 1.0:\n",
    "                        nonexacts.append([z1.replace(\" \", \"\"), z2.replace(\" \", \"\")])\n",
    "                \n",
    "                filterRepl = []\n",
    "                for i, j in nonexacts:\n",
    "                    if get_rep(i) + 2 <= get_rep(j):\n",
    "                        filterRepl.append([i, j])\n",
    "        else:\n",
    "            with open('./data/rep-l/{}'.format(checkp), 'r') as f:\n",
    "                lines = f.readlines()[1:]\n",
    "                lines = [line.split(',') for line in lines]\n",
    "                nonexacts = []\n",
    "                for *_, z1, z2, t in lines:\n",
    "                    if 0 <= float(t) < 1.0:\n",
    "                        if isinstance(z1, int) or isinstance(z2, int) or z1 is None or z2 is None:\n",
    "                            continue\n",
    "                        else:\n",
    "                            nonexacts.append([z1.replace(\" \", \"\"), z2.replace(\" \", \"\")])\n",
    "                \n",
    "                filterRepl = []\n",
    "                for i, j in nonexacts:\n",
    "                    if get_rep(i) + 2 <= get_rep(j):\n",
    "                        filterRepl.append([i, j])\n",
    "        \n",
    "        # write filterRepl to a file\n",
    "        with open('./data/{}_filterRepl.txt'.format(namespace), 'w') as f:\n",
    "            for i, j in filterRepl:\n",
    "                f.write(\"{} {}\\n\".format(i, j))"
   ]
  },
  {
   "cell_type": "code",
   "execution_count": 4,
   "id": "b03eb70e-d4a3-44ee-b558-a982f2ac4c89",
   "metadata": {},
   "outputs": [],
   "source": [
    "repl_l(data_files)"
   ]
  },
  {
   "cell_type": "code",
   "execution_count": 5,
   "id": "65ee0ad8-8c2d-4cb0-9a0e-da207e55f071",
   "metadata": {},
   "outputs": [
    {
     "name": "stdout",
     "output_type": "stream",
     "text": [
      "Atow-wise_filterRepl.txt haslength: 801\n",
      "SmilesPE_filterRepl.txt haslength: 821\n",
      "SELFIES_filterRepl.txt haslength: 886\n",
      "DeepSMILES_filterRepl.txt haslength: 902\n",
      "AIS_filterRepl.txt haslength: 727\n"
     ]
    }
   ],
   "source": [
    "import os\n",
    "for namespace in data_files.values():\n",
    "    filepath = './data/{}_filterRepl.txt'.format(namespace)\n",
    "    if os.path.exists(filepath):\n",
    "        with open('data/{}_filterRepl.txt'.format(namespace)) as f:\n",
    "            line_count = sum(1 for line in f)\n",
    "\n",
    "        print('{}_filterRepl.txt haslength: {}'.format(namespace, line_count))\n",
    "    else:\n",
    "        print('{} does not exist.'.format(filepath))\n",
    "\n"
   ]
  },
  {
   "cell_type": "code",
   "execution_count": null,
   "id": "4267d622-b95e-45eb-824d-a2ca7251e288",
   "metadata": {},
   "outputs": [],
   "source": []
  }
 ],
 "metadata": {
  "kernelspec": {
   "display_name": "ais",
   "language": "python",
   "name": "ais"
  },
  "language_info": {
   "codemirror_mode": {
    "name": "ipython",
    "version": 3
   },
   "file_extension": ".py",
   "mimetype": "text/x-python",
   "name": "python",
   "nbconvert_exporter": "python",
   "pygments_lexer": "ipython3",
   "version": "3.10.10"
  },
  "widgets": {
   "application/vnd.jupyter.widget-state+json": {
    "state": {},
    "version_major": 2,
    "version_minor": 0
   }
  }
 },
 "nbformat": 4,
 "nbformat_minor": 5
}
